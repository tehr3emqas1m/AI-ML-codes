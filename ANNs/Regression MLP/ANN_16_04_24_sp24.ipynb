{
  "nbformat": 4,
  "nbformat_minor": 0,
  "metadata": {
    "colab": {
      "provenance": []
    },
    "kernelspec": {
      "name": "python3",
      "display_name": "Python 3"
    }
  },
  "cells": [
    {
      "cell_type": "markdown",
      "source": [
        "#In notebook, we are going to implement a neural network for linear as well as non-linear regression"
      ],
      "metadata": {
        "id": "lXER3U2LFXWD"
      }
    },
    {
      "cell_type": "markdown",
      "source": [
        "____________________________________________\n",
        "##First off we do the linear regression part"
      ],
      "metadata": {
        "id": "oFhdDNtGFrBD"
      }
    },
    {
      "cell_type": "code",
      "metadata": {
        "id": "Vkkgm55UgDBb"
      },
      "source": [
        "import tensorflow as tf\n",
        "import numpy as np\n",
        "import pandas as pd\n",
        "from pylab import rcParams\n",
        "import matplotlib.pyplot as plt\n",
        "import warnings"
      ],
      "execution_count": 2,
      "outputs": []
    },
    {
      "cell_type": "code",
      "source": [
        "from google.colab import drive\n",
        "drive.mount('/content/drive/')"
      ],
      "metadata": {
        "colab": {
          "base_uri": "https://localhost:8080/"
        },
        "id": "JoL-iiyDHd6V",
        "outputId": "d5548910-7441-4050-e29e-ab126accd366"
      },
      "execution_count": 3,
      "outputs": [
        {
          "output_type": "stream",
          "name": "stdout",
          "text": [
            "Mounted at /content/drive/\n"
          ]
        }
      ]
    },
    {
      "cell_type": "code",
      "metadata": {
        "id": "w1C8jlMNkowB"
      },
      "source": [
        "%matplotlib inline\n",
        "warnings.filterwarnings(\"ignore\")\n",
        "pd.set_option('display.expand_frame_repr', False)\n",
        "rcParams['figure.figsize'] = 16, 8"
      ],
      "execution_count": 4,
      "outputs": []
    },
    {
      "cell_type": "code",
      "metadata": {
        "id": "McV3mBetgtU8"
      },
      "source": [
        "df = pd.read_csv(\"/content/drive/MyDrive/Pythin_in_DS/TFRegCSVs/data.csv\")"
      ],
      "execution_count": 5,
      "outputs": []
    },
    {
      "cell_type": "code",
      "source": [
        "df.shape"
      ],
      "metadata": {
        "colab": {
          "base_uri": "https://localhost:8080/"
        },
        "id": "pGJI09w6JK7_",
        "outputId": "5be516ac-cbc0-4cf8-9710-143f6050275d"
      },
      "execution_count": 6,
      "outputs": [
        {
          "output_type": "execute_result",
          "data": {
            "text/plain": [
              "(200, 2)"
            ]
          },
          "metadata": {},
          "execution_count": 6
        }
      ]
    },
    {
      "cell_type": "code",
      "metadata": {
        "id": "T0te_PCjg6L7",
        "colab": {
          "base_uri": "https://localhost:8080/",
          "height": 206
        },
        "outputId": "7eaf45d2-8e0c-497f-f803-64438731cb76"
      },
      "source": [
        "df.head()"
      ],
      "execution_count": null,
      "outputs": [
        {
          "output_type": "execute_result",
          "data": {
            "text/plain": [
              "       X     y\n",
              "0  230.1  22.1\n",
              "1   44.5  10.4\n",
              "2   17.2   9.3\n",
              "3  151.5  18.5\n",
              "4  180.8  12.9"
            ],
            "text/html": [
              "\n",
              "  <div id=\"df-28452f3d-0e3f-4122-9084-518b626ce271\" class=\"colab-df-container\">\n",
              "    <div>\n",
              "<style scoped>\n",
              "    .dataframe tbody tr th:only-of-type {\n",
              "        vertical-align: middle;\n",
              "    }\n",
              "\n",
              "    .dataframe tbody tr th {\n",
              "        vertical-align: top;\n",
              "    }\n",
              "\n",
              "    .dataframe thead th {\n",
              "        text-align: right;\n",
              "    }\n",
              "</style>\n",
              "<table border=\"1\" class=\"dataframe\">\n",
              "  <thead>\n",
              "    <tr style=\"text-align: right;\">\n",
              "      <th></th>\n",
              "      <th>X</th>\n",
              "      <th>y</th>\n",
              "    </tr>\n",
              "  </thead>\n",
              "  <tbody>\n",
              "    <tr>\n",
              "      <th>0</th>\n",
              "      <td>230.1</td>\n",
              "      <td>22.1</td>\n",
              "    </tr>\n",
              "    <tr>\n",
              "      <th>1</th>\n",
              "      <td>44.5</td>\n",
              "      <td>10.4</td>\n",
              "    </tr>\n",
              "    <tr>\n",
              "      <th>2</th>\n",
              "      <td>17.2</td>\n",
              "      <td>9.3</td>\n",
              "    </tr>\n",
              "    <tr>\n",
              "      <th>3</th>\n",
              "      <td>151.5</td>\n",
              "      <td>18.5</td>\n",
              "    </tr>\n",
              "    <tr>\n",
              "      <th>4</th>\n",
              "      <td>180.8</td>\n",
              "      <td>12.9</td>\n",
              "    </tr>\n",
              "  </tbody>\n",
              "</table>\n",
              "</div>\n",
              "    <div class=\"colab-df-buttons\">\n",
              "\n",
              "  <div class=\"colab-df-container\">\n",
              "    <button class=\"colab-df-convert\" onclick=\"convertToInteractive('df-28452f3d-0e3f-4122-9084-518b626ce271')\"\n",
              "            title=\"Convert this dataframe to an interactive table.\"\n",
              "            style=\"display:none;\">\n",
              "\n",
              "  <svg xmlns=\"http://www.w3.org/2000/svg\" height=\"24px\" viewBox=\"0 -960 960 960\">\n",
              "    <path d=\"M120-120v-720h720v720H120Zm60-500h600v-160H180v160Zm220 220h160v-160H400v160Zm0 220h160v-160H400v160ZM180-400h160v-160H180v160Zm440 0h160v-160H620v160ZM180-180h160v-160H180v160Zm440 0h160v-160H620v160Z\"/>\n",
              "  </svg>\n",
              "    </button>\n",
              "\n",
              "  <style>\n",
              "    .colab-df-container {\n",
              "      display:flex;\n",
              "      gap: 12px;\n",
              "    }\n",
              "\n",
              "    .colab-df-convert {\n",
              "      background-color: #E8F0FE;\n",
              "      border: none;\n",
              "      border-radius: 50%;\n",
              "      cursor: pointer;\n",
              "      display: none;\n",
              "      fill: #1967D2;\n",
              "      height: 32px;\n",
              "      padding: 0 0 0 0;\n",
              "      width: 32px;\n",
              "    }\n",
              "\n",
              "    .colab-df-convert:hover {\n",
              "      background-color: #E2EBFA;\n",
              "      box-shadow: 0px 1px 2px rgba(60, 64, 67, 0.3), 0px 1px 3px 1px rgba(60, 64, 67, 0.15);\n",
              "      fill: #174EA6;\n",
              "    }\n",
              "\n",
              "    .colab-df-buttons div {\n",
              "      margin-bottom: 4px;\n",
              "    }\n",
              "\n",
              "    [theme=dark] .colab-df-convert {\n",
              "      background-color: #3B4455;\n",
              "      fill: #D2E3FC;\n",
              "    }\n",
              "\n",
              "    [theme=dark] .colab-df-convert:hover {\n",
              "      background-color: #434B5C;\n",
              "      box-shadow: 0px 1px 3px 1px rgba(0, 0, 0, 0.15);\n",
              "      filter: drop-shadow(0px 1px 2px rgba(0, 0, 0, 0.3));\n",
              "      fill: #FFFFFF;\n",
              "    }\n",
              "  </style>\n",
              "\n",
              "    <script>\n",
              "      const buttonEl =\n",
              "        document.querySelector('#df-28452f3d-0e3f-4122-9084-518b626ce271 button.colab-df-convert');\n",
              "      buttonEl.style.display =\n",
              "        google.colab.kernel.accessAllowed ? 'block' : 'none';\n",
              "\n",
              "      async function convertToInteractive(key) {\n",
              "        const element = document.querySelector('#df-28452f3d-0e3f-4122-9084-518b626ce271');\n",
              "        const dataTable =\n",
              "          await google.colab.kernel.invokeFunction('convertToInteractive',\n",
              "                                                    [key], {});\n",
              "        if (!dataTable) return;\n",
              "\n",
              "        const docLinkHtml = 'Like what you see? Visit the ' +\n",
              "          '<a target=\"_blank\" href=https://colab.research.google.com/notebooks/data_table.ipynb>data table notebook</a>'\n",
              "          + ' to learn more about interactive tables.';\n",
              "        element.innerHTML = '';\n",
              "        dataTable['output_type'] = 'display_data';\n",
              "        await google.colab.output.renderOutput(dataTable, element);\n",
              "        const docLink = document.createElement('div');\n",
              "        docLink.innerHTML = docLinkHtml;\n",
              "        element.appendChild(docLink);\n",
              "      }\n",
              "    </script>\n",
              "  </div>\n",
              "\n",
              "\n",
              "<div id=\"df-408208c0-cce3-472b-8996-2f6fae0f0dc6\">\n",
              "  <button class=\"colab-df-quickchart\" onclick=\"quickchart('df-408208c0-cce3-472b-8996-2f6fae0f0dc6')\"\n",
              "            title=\"Suggest charts.\"\n",
              "            style=\"display:none;\">\n",
              "\n",
              "<svg xmlns=\"http://www.w3.org/2000/svg\" height=\"24px\"viewBox=\"0 0 24 24\"\n",
              "     width=\"24px\">\n",
              "    <g>\n",
              "        <path d=\"M19 3H5c-1.1 0-2 .9-2 2v14c0 1.1.9 2 2 2h14c1.1 0 2-.9 2-2V5c0-1.1-.9-2-2-2zM9 17H7v-7h2v7zm4 0h-2V7h2v10zm4 0h-2v-4h2v4z\"/>\n",
              "    </g>\n",
              "</svg>\n",
              "  </button>\n",
              "\n",
              "<style>\n",
              "  .colab-df-quickchart {\n",
              "      --bg-color: #E8F0FE;\n",
              "      --fill-color: #1967D2;\n",
              "      --hover-bg-color: #E2EBFA;\n",
              "      --hover-fill-color: #174EA6;\n",
              "      --disabled-fill-color: #AAA;\n",
              "      --disabled-bg-color: #DDD;\n",
              "  }\n",
              "\n",
              "  [theme=dark] .colab-df-quickchart {\n",
              "      --bg-color: #3B4455;\n",
              "      --fill-color: #D2E3FC;\n",
              "      --hover-bg-color: #434B5C;\n",
              "      --hover-fill-color: #FFFFFF;\n",
              "      --disabled-bg-color: #3B4455;\n",
              "      --disabled-fill-color: #666;\n",
              "  }\n",
              "\n",
              "  .colab-df-quickchart {\n",
              "    background-color: var(--bg-color);\n",
              "    border: none;\n",
              "    border-radius: 50%;\n",
              "    cursor: pointer;\n",
              "    display: none;\n",
              "    fill: var(--fill-color);\n",
              "    height: 32px;\n",
              "    padding: 0;\n",
              "    width: 32px;\n",
              "  }\n",
              "\n",
              "  .colab-df-quickchart:hover {\n",
              "    background-color: var(--hover-bg-color);\n",
              "    box-shadow: 0 1px 2px rgba(60, 64, 67, 0.3), 0 1px 3px 1px rgba(60, 64, 67, 0.15);\n",
              "    fill: var(--button-hover-fill-color);\n",
              "  }\n",
              "\n",
              "  .colab-df-quickchart-complete:disabled,\n",
              "  .colab-df-quickchart-complete:disabled:hover {\n",
              "    background-color: var(--disabled-bg-color);\n",
              "    fill: var(--disabled-fill-color);\n",
              "    box-shadow: none;\n",
              "  }\n",
              "\n",
              "  .colab-df-spinner {\n",
              "    border: 2px solid var(--fill-color);\n",
              "    border-color: transparent;\n",
              "    border-bottom-color: var(--fill-color);\n",
              "    animation:\n",
              "      spin 1s steps(1) infinite;\n",
              "  }\n",
              "\n",
              "  @keyframes spin {\n",
              "    0% {\n",
              "      border-color: transparent;\n",
              "      border-bottom-color: var(--fill-color);\n",
              "      border-left-color: var(--fill-color);\n",
              "    }\n",
              "    20% {\n",
              "      border-color: transparent;\n",
              "      border-left-color: var(--fill-color);\n",
              "      border-top-color: var(--fill-color);\n",
              "    }\n",
              "    30% {\n",
              "      border-color: transparent;\n",
              "      border-left-color: var(--fill-color);\n",
              "      border-top-color: var(--fill-color);\n",
              "      border-right-color: var(--fill-color);\n",
              "    }\n",
              "    40% {\n",
              "      border-color: transparent;\n",
              "      border-right-color: var(--fill-color);\n",
              "      border-top-color: var(--fill-color);\n",
              "    }\n",
              "    60% {\n",
              "      border-color: transparent;\n",
              "      border-right-color: var(--fill-color);\n",
              "    }\n",
              "    80% {\n",
              "      border-color: transparent;\n",
              "      border-right-color: var(--fill-color);\n",
              "      border-bottom-color: var(--fill-color);\n",
              "    }\n",
              "    90% {\n",
              "      border-color: transparent;\n",
              "      border-bottom-color: var(--fill-color);\n",
              "    }\n",
              "  }\n",
              "</style>\n",
              "\n",
              "  <script>\n",
              "    async function quickchart(key) {\n",
              "      const quickchartButtonEl =\n",
              "        document.querySelector('#' + key + ' button');\n",
              "      quickchartButtonEl.disabled = true;  // To prevent multiple clicks.\n",
              "      quickchartButtonEl.classList.add('colab-df-spinner');\n",
              "      try {\n",
              "        const charts = await google.colab.kernel.invokeFunction(\n",
              "            'suggestCharts', [key], {});\n",
              "      } catch (error) {\n",
              "        console.error('Error during call to suggestCharts:', error);\n",
              "      }\n",
              "      quickchartButtonEl.classList.remove('colab-df-spinner');\n",
              "      quickchartButtonEl.classList.add('colab-df-quickchart-complete');\n",
              "    }\n",
              "    (() => {\n",
              "      let quickchartButtonEl =\n",
              "        document.querySelector('#df-408208c0-cce3-472b-8996-2f6fae0f0dc6 button');\n",
              "      quickchartButtonEl.style.display =\n",
              "        google.colab.kernel.accessAllowed ? 'block' : 'none';\n",
              "    })();\n",
              "  </script>\n",
              "</div>\n",
              "    </div>\n",
              "  </div>\n"
            ]
          },
          "metadata": {},
          "execution_count": 5
        }
      ]
    },
    {
      "cell_type": "code",
      "metadata": {
        "id": "nw12IzEOnTG_",
        "colab": {
          "base_uri": "https://localhost:8080/",
          "height": 430
        },
        "outputId": "2f0a78a5-91d5-45a1-89d6-5a704531c7ee"
      },
      "source": [
        "plt.scatter(df[\"X\"], df[\"y\"])\n",
        "plt.show()"
      ],
      "execution_count": null,
      "outputs": [
        {
          "output_type": "display_data",
          "data": {
            "text/plain": [
              "<Figure size 640x480 with 1 Axes>"
            ],
            "image/png": "[encoded data removed]"
          },
          "metadata": {}
        }
      ]
    },
    {
      "cell_type": "code",
      "source": [
        "# Building the model\n",
        "model = tf.keras.Sequential()\n",
        "model.add(tf.keras.layers.Dense(1, input_shape=[1]))\n",
        "model.compile(loss='mean_squared_error', optimizer=tf.keras.optimizers.Adam(0.01))"
      ],
      "metadata": {
        "id": "n8AXf0hgG9WM"
      },
      "execution_count": null,
      "outputs": []
    },
    {
      "cell_type": "code",
      "source": [
        "model.summary()"
      ],
      "metadata": {
        "colab": {
          "base_uri": "https://localhost:8080/"
        },
        "id": "9kejUUvYG9T6",
        "outputId": "b39f0fbb-3456-4d89-a838-5b1f90331985"
      },
      "execution_count": null,
      "outputs": [
        {
          "output_type": "stream",
          "name": "stdout",
          "text": [
            "Model: \"sequential\"\n",
            "_________________________________________________________________\n",
            " Layer (type)                Output Shape              Param #   \n",
            "=================================================================\n",
            " dense (Dense)               (None, 1)                 2         \n",
            "                                                                 \n",
            "=================================================================\n",
            "Total params: 2 (8.00 Byte)\n",
            "Trainable params: 2 (8.00 Byte)\n",
            "Non-trainable params: 0 (0.00 Byte)\n",
            "_________________________________________________________________\n"
          ]
        }
      ]
    },
    {
      "cell_type": "code",
      "source": [
        "callback = tf.keras.callbacks.EarlyStopping(monitor='loss', patience=5)\n",
        "history = model.fit(df[\"X\"], df[\"y\"], callbacks=[callback] ,epochs=300)"
      ],
      "metadata": {
        "colab": {
          "base_uri": "https://localhost:8080/"
        },
        "id": "oSCBFyWdG9QX",
        "outputId": "17bebc07-2e13-4c15-ebc6-8507f3ba0b61"
      },
      "execution_count": null,
      "outputs": [
        {
          "output_type": "stream",
          "name": "stdout",
          "text": [
            "Epoch 1/300\n",
            "7/7 [==============================] - 5s 5ms/step - loss: 45808.3281\n",
            "Epoch 2/300\n",
            "7/7 [==============================] - 0s 4ms/step - loss: 40813.4883\n",
            "Epoch 3/300\n",
            "7/7 [==============================] - 0s 4ms/step - loss: 36323.9219\n",
            "Epoch 4/300\n",
            "7/7 [==============================] - 0s 4ms/step - loss: 32028.6367\n",
            "Epoch 5/300\n",
            "7/7 [==============================] - 0s 4ms/step - loss: 28053.4258\n",
            "Epoch 6/300\n",
            "7/7 [==============================] - 0s 4ms/step - loss: 24475.9941\n",
            "Epoch 7/300\n",
            "7/7 [==============================] - 0s 4ms/step - loss: 21300.8418\n",
            "Epoch 8/300\n",
            "7/7 [==============================] - 0s 4ms/step - loss: 18329.3438\n",
            "Epoch 9/300\n",
            "7/7 [==============================] - 0s 4ms/step - loss: 15794.0264\n",
            "Epoch 10/300\n",
            "7/7 [==============================] - 0s 4ms/step - loss: 13499.1621\n",
            "Epoch 11/300\n",
            "7/7 [==============================] - 0s 4ms/step - loss: 11504.2012\n",
            "Epoch 12/300\n",
            "7/7 [==============================] - 0s 4ms/step - loss: 9727.9619\n",
            "Epoch 13/300\n",
            "7/7 [==============================] - 0s 4ms/step - loss: 8260.1299\n",
            "Epoch 14/300\n",
            "7/7 [==============================] - 0s 4ms/step - loss: 6931.3955\n",
            "Epoch 15/300\n",
            "7/7 [==============================] - 0s 4ms/step - loss: 5800.2788\n",
            "Epoch 16/300\n",
            "7/7 [==============================] - 0s 4ms/step - loss: 4794.7817\n",
            "Epoch 17/300\n",
            "7/7 [==============================] - 0s 4ms/step - loss: 3966.7385\n",
            "Epoch 18/300\n",
            "7/7 [==============================] - 0s 4ms/step - loss: 3229.2273\n",
            "Epoch 19/300\n",
            "7/7 [==============================] - 0s 4ms/step - loss: 2633.4695\n",
            "Epoch 20/300\n",
            "7/7 [==============================] - 0s 4ms/step - loss: 2140.4680\n",
            "Epoch 21/300\n",
            "7/7 [==============================] - 0s 4ms/step - loss: 1738.8040\n",
            "Epoch 22/300\n",
            "7/7 [==============================] - 0s 4ms/step - loss: 1375.4581\n",
            "Epoch 23/300\n",
            "7/7 [==============================] - 0s 4ms/step - loss: 1098.9274\n",
            "Epoch 24/300\n",
            "7/7 [==============================] - 0s 4ms/step - loss: 877.4558\n",
            "Epoch 25/300\n",
            "7/7 [==============================] - 0s 4ms/step - loss: 688.0582\n",
            "Epoch 26/300\n",
            "7/7 [==============================] - 0s 5ms/step - loss: 541.7225\n",
            "Epoch 27/300\n",
            "7/7 [==============================] - 0s 3ms/step - loss: 422.1599\n",
            "Epoch 28/300\n",
            "7/7 [==============================] - 0s 3ms/step - loss: 331.3733\n",
            "Epoch 29/300\n",
            "7/7 [==============================] - 0s 4ms/step - loss: 259.2854\n",
            "Epoch 30/300\n",
            "7/7 [==============================] - 0s 5ms/step - loss: 204.2343\n",
            "Epoch 31/300\n",
            "7/7 [==============================] - 0s 4ms/step - loss: 158.8397\n",
            "Epoch 32/300\n",
            "7/7 [==============================] - 0s 4ms/step - loss: 125.3347\n",
            "Epoch 33/300\n",
            "7/7 [==============================] - 0s 4ms/step - loss: 97.6506\n",
            "Epoch 34/300\n",
            "7/7 [==============================] - 0s 5ms/step - loss: 78.1423\n",
            "Epoch 35/300\n",
            "7/7 [==============================] - 0s 4ms/step - loss: 62.0115\n",
            "Epoch 36/300\n",
            "7/7 [==============================] - 0s 3ms/step - loss: 50.1132\n",
            "Epoch 37/300\n",
            "7/7 [==============================] - 0s 3ms/step - loss: 41.2482\n",
            "Epoch 38/300\n",
            "7/7 [==============================] - 0s 3ms/step - loss: 34.8429\n",
            "Epoch 39/300\n",
            "7/7 [==============================] - 0s 4ms/step - loss: 30.0941\n",
            "Epoch 40/300\n",
            "7/7 [==============================] - 0s 4ms/step - loss: 26.7459\n",
            "Epoch 41/300\n",
            "7/7 [==============================] - 0s 3ms/step - loss: 24.5091\n",
            "Epoch 42/300\n",
            "7/7 [==============================] - 0s 3ms/step - loss: 22.7668\n",
            "Epoch 43/300\n",
            "7/7 [==============================] - 0s 4ms/step - loss: 21.5199\n",
            "Epoch 44/300\n",
            "7/7 [==============================] - 0s 4ms/step - loss: 20.7267\n",
            "Epoch 45/300\n",
            "7/7 [==============================] - 0s 3ms/step - loss: 20.0169\n",
            "Epoch 46/300\n",
            "7/7 [==============================] - 0s 3ms/step - loss: 19.6275\n",
            "Epoch 47/300\n",
            "7/7 [==============================] - 0s 4ms/step - loss: 19.3133\n",
            "Epoch 48/300\n",
            "7/7 [==============================] - 0s 3ms/step - loss: 19.1393\n",
            "Epoch 49/300\n",
            "7/7 [==============================] - 0s 4ms/step - loss: 19.0692\n",
            "Epoch 50/300\n",
            "7/7 [==============================] - 0s 4ms/step - loss: 18.9398\n",
            "Epoch 51/300\n",
            "7/7 [==============================] - 0s 4ms/step - loss: 18.9059\n",
            "Epoch 52/300\n",
            "7/7 [==============================] - 0s 3ms/step - loss: 18.8851\n",
            "Epoch 53/300\n",
            "7/7 [==============================] - 0s 3ms/step - loss: 18.8758\n",
            "Epoch 54/300\n",
            "7/7 [==============================] - 0s 4ms/step - loss: 18.8558\n",
            "Epoch 55/300\n",
            "7/7 [==============================] - 0s 3ms/step - loss: 18.8253\n",
            "Epoch 56/300\n",
            "7/7 [==============================] - 0s 4ms/step - loss: 18.8093\n",
            "Epoch 57/300\n",
            "7/7 [==============================] - 0s 3ms/step - loss: 18.7897\n",
            "Epoch 58/300\n",
            "7/7 [==============================] - 0s 3ms/step - loss: 18.7841\n",
            "Epoch 59/300\n",
            "7/7 [==============================] - 0s 3ms/step - loss: 18.7808\n",
            "Epoch 60/300\n",
            "7/7 [==============================] - 0s 3ms/step - loss: 18.7608\n",
            "Epoch 61/300\n",
            "7/7 [==============================] - 0s 3ms/step - loss: 18.7605\n",
            "Epoch 62/300\n",
            "7/7 [==============================] - 0s 3ms/step - loss: 18.7588\n",
            "Epoch 63/300\n",
            "7/7 [==============================] - 0s 3ms/step - loss: 18.7570\n",
            "Epoch 64/300\n",
            "7/7 [==============================] - 0s 3ms/step - loss: 18.7483\n",
            "Epoch 65/300\n",
            "7/7 [==============================] - 0s 3ms/step - loss: 18.7271\n",
            "Epoch 66/300\n",
            "7/7 [==============================] - 0s 3ms/step - loss: 18.7137\n",
            "Epoch 67/300\n",
            "7/7 [==============================] - 0s 3ms/step - loss: 18.7092\n",
            "Epoch 68/300\n",
            "7/7 [==============================] - 0s 3ms/step - loss: 18.7029\n",
            "Epoch 69/300\n",
            "7/7 [==============================] - 0s 3ms/step - loss: 18.6953\n",
            "Epoch 70/300\n",
            "7/7 [==============================] - 0s 3ms/step - loss: 18.6912\n",
            "Epoch 71/300\n",
            "7/7 [==============================] - 0s 3ms/step - loss: 18.6865\n",
            "Epoch 72/300\n",
            "7/7 [==============================] - 0s 3ms/step - loss: 18.6814\n",
            "Epoch 73/300\n",
            "7/7 [==============================] - 0s 3ms/step - loss: 18.6736\n",
            "Epoch 74/300\n",
            "7/7 [==============================] - 0s 3ms/step - loss: 18.6700\n",
            "Epoch 75/300\n",
            "7/7 [==============================] - 0s 3ms/step - loss: 18.6640\n",
            "Epoch 76/300\n",
            "7/7 [==============================] - 0s 3ms/step - loss: 18.6594\n",
            "Epoch 77/300\n",
            "7/7 [==============================] - 0s 3ms/step - loss: 18.6503\n",
            "Epoch 78/300\n",
            "7/7 [==============================] - 0s 3ms/step - loss: 18.6459\n",
            "Epoch 79/300\n",
            "7/7 [==============================] - 0s 3ms/step - loss: 18.6712\n",
            "Epoch 80/300\n",
            "7/7 [==============================] - 0s 4ms/step - loss: 18.6647\n",
            "Epoch 81/300\n",
            "7/7 [==============================] - 0s 3ms/step - loss: 18.6536\n",
            "Epoch 82/300\n",
            "7/7 [==============================] - 0s 3ms/step - loss: 18.6637\n",
            "Epoch 83/300\n",
            "7/7 [==============================] - 0s 3ms/step - loss: 18.6488\n"
          ]
        }
      ]
    },
    {
      "cell_type": "code",
      "source": [
        "plt.plot(history.history['loss'])\n",
        "plt.show()"
      ],
      "metadata": {
        "colab": {
          "base_uri": "https://localhost:8080/",
          "height": 430
        },
        "id": "Loi5Hg_DG9OE",
        "outputId": "bd6af0e7-4685-44f8-f3f0-40b66321fbe9"
      },
      "execution_count": null,
      "outputs": [
        {
          "output_type": "display_data",
          "data": {
            "text/plain": [
              "<Figure size 640x480 with 1 Axes>"
            ],
            "image/png": "[encoded data removed]"
          },
          "metadata": {}
        }
      ]
    },
    {
      "cell_type": "code",
      "source": [
        "df[\"prediction\"] = model.predict(df[\"X\"])"
      ],
      "metadata": {
        "colab": {
          "base_uri": "https://localhost:8080/"
        },
        "id": "93UBqDG5G9Lq",
        "outputId": "7a7d09e0-4c11-4835-c665-46cbb57ea050"
      },
      "execution_count": null,
      "outputs": [
        {
          "output_type": "stream",
          "name": "stdout",
          "text": [
            "7/7 [==============================] - 0s 2ms/step\n"
          ]
        }
      ]
    },
    {
      "cell_type": "code",
      "source": [
        "plt.scatter(df[\"X\"], df[\"y\"])\n",
        "plt.scatter(df[\"X\"], df[\"prediction\"], color='r')\n",
        "plt.show()"
      ],
      "metadata": {
        "colab": {
          "base_uri": "https://localhost:8080/",
          "height": 562
        },
        "id": "2Gzdc_I8G9Ja",
        "outputId": "7323f168-dfa5-41aa-937f-9ee4d16f04f1"
      },
      "execution_count": null,
      "outputs": [
        {
          "output_type": "display_data",
          "data": {
            "text/plain": [
              "<Figure size 1600x800 with 1 Axes>"
            ],
            "image/png": "[encoded data removed]"
          },
          "metadata": {}
        }
      ]
    },
    {
      "cell_type": "markdown",
      "source": [
        "#Now repeating the same steps for a non-linear regression model"
      ],
      "metadata": {
        "id": "v2Sw8pjcH75J"
      }
    },
    {
      "cell_type": "code",
      "metadata": {
        "id": "tIkUgpzxhP9n"
      },
      "source": [
        "\n",
        "\"\"\"\n",
        "model = tf.keras.Sequential()\n",
        "model.add(tf.keras.layers.Dense(1, input_shape=[1]))\n",
        "model.compile(loss='mean_squared_error', optimizer=tf.keras.optimizers.Adam(0.01))\n",
        "\"\"\"\n",
        "# For non linear regression we utilize multiple dense layers wit non-linear activation functions\n",
        "\n",
        "model = tf.keras.Sequential([\n",
        "    tf.keras.layers.Dense(10, input_shape=[1], activation='relu'),\n",
        "    tf.keras.layers.Dense(10, activation='relu'),\n",
        "\n",
        "\n",
        "    tf.keras.layers.Dense(1)\n",
        "])\n",
        "model.compile(loss='mean_squared_error', optimizer=tf.keras.optimizers.Adam(0.01))\n",
        "\n"
      ],
      "execution_count": null,
      "outputs": []
    },
    {
      "cell_type": "code",
      "metadata": {
        "id": "mP8wk96ahVIa",
        "colab": {
          "base_uri": "https://localhost:8080/"
        },
        "outputId": "163b1221-c553-420f-8cbd-d6228d29c09a"
      },
      "source": [
        "model.summary()"
      ],
      "execution_count": null,
      "outputs": [
        {
          "output_type": "stream",
          "name": "stdout",
          "text": [
            "Model: \"sequential_2\"\n",
            "_________________________________________________________________\n",
            " Layer (type)                Output Shape              Param #   \n",
            "=================================================================\n",
            " dense_9 (Dense)             (None, 10)                20        \n",
            "                                                                 \n",
            " dense_10 (Dense)            (None, 10)                110       \n",
            "                                                                 \n",
            " dense_11 (Dense)            (None, 1)                 11        \n",
            "                                                                 \n",
            "=================================================================\n",
            "Total params: 141 (564.00 Byte)\n",
            "Trainable params: 141 (564.00 Byte)\n",
            "Non-trainable params: 0 (0.00 Byte)\n",
            "_________________________________________________________________\n"
          ]
        }
      ]
    },
    {
      "cell_type": "code",
      "source": [
        "callback = tf.keras.callbacks.EarlyStopping(monitor='loss', patience=5)\n",
        "history = model.fit(df[\"X\"], df[\"y\"], callbacks=[callback] ,epochs=300)"
      ],
      "metadata": {
        "colab": {
          "base_uri": "https://localhost:8080/"
        },
        "id": "cDQl8TQhHHHc",
        "outputId": "60ac4a2a-6319-437c-c79f-00d3de384512"
      },
      "execution_count": null,
      "outputs": [
        {
          "output_type": "stream",
          "name": "stdout",
          "text": [
            "Epoch 1/300\n",
            "7/7 [==============================] - 1s 4ms/step - loss: 73.6963\n",
            "Epoch 2/300\n",
            "7/7 [==============================] - 0s 3ms/step - loss: 45.6594\n",
            "Epoch 3/300\n",
            "7/7 [==============================] - 0s 3ms/step - loss: 38.5178\n",
            "Epoch 4/300\n",
            "7/7 [==============================] - 0s 4ms/step - loss: 44.1018\n",
            "Epoch 5/300\n",
            "7/7 [==============================] - 0s 3ms/step - loss: 31.7124\n",
            "Epoch 6/300\n",
            "7/7 [==============================] - 0s 3ms/step - loss: 35.2241\n",
            "Epoch 7/300\n",
            "7/7 [==============================] - 0s 4ms/step - loss: 26.9726\n",
            "Epoch 8/300\n",
            "7/7 [==============================] - 0s 3ms/step - loss: 23.0709\n",
            "Epoch 9/300\n",
            "7/7 [==============================] - 0s 3ms/step - loss: 19.6160\n",
            "Epoch 10/300\n",
            "7/7 [==============================] - 0s 4ms/step - loss: 19.8190\n",
            "Epoch 11/300\n",
            "7/7 [==============================] - 0s 3ms/step - loss: 18.8432\n",
            "Epoch 12/300\n",
            "7/7 [==============================] - 0s 4ms/step - loss: 19.0657\n",
            "Epoch 13/300\n",
            "7/7 [==============================] - 0s 5ms/step - loss: 19.0135\n",
            "Epoch 14/300\n",
            "7/7 [==============================] - 0s 4ms/step - loss: 18.3052\n",
            "Epoch 15/300\n",
            "7/7 [==============================] - 0s 3ms/step - loss: 16.9102\n",
            "Epoch 16/300\n",
            "7/7 [==============================] - 0s 3ms/step - loss: 16.7877\n",
            "Epoch 17/300\n",
            "7/7 [==============================] - 0s 3ms/step - loss: 16.3758\n",
            "Epoch 18/300\n",
            "7/7 [==============================] - 0s 3ms/step - loss: 16.5755\n",
            "Epoch 19/300\n",
            "7/7 [==============================] - 0s 3ms/step - loss: 16.0040\n",
            "Epoch 20/300\n",
            "7/7 [==============================] - 0s 3ms/step - loss: 15.6901\n",
            "Epoch 21/300\n",
            "7/7 [==============================] - 0s 4ms/step - loss: 15.5128\n",
            "Epoch 22/300\n",
            "7/7 [==============================] - 0s 3ms/step - loss: 15.9258\n",
            "Epoch 23/300\n",
            "7/7 [==============================] - 0s 3ms/step - loss: 15.2384\n",
            "Epoch 24/300\n",
            "7/7 [==============================] - 0s 4ms/step - loss: 15.8908\n",
            "Epoch 25/300\n",
            "7/7 [==============================] - 0s 4ms/step - loss: 14.6076\n",
            "Epoch 26/300\n",
            "7/7 [==============================] - 0s 4ms/step - loss: 15.3280\n",
            "Epoch 27/300\n",
            "7/7 [==============================] - 0s 3ms/step - loss: 15.5451\n",
            "Epoch 28/300\n",
            "7/7 [==============================] - 0s 3ms/step - loss: 17.2424\n",
            "Epoch 29/300\n",
            "7/7 [==============================] - 0s 3ms/step - loss: 14.8374\n",
            "Epoch 30/300\n",
            "7/7 [==============================] - 0s 4ms/step - loss: 13.2218\n",
            "Epoch 31/300\n",
            "7/7 [==============================] - 0s 5ms/step - loss: 13.7171\n",
            "Epoch 32/300\n",
            "7/7 [==============================] - 0s 5ms/step - loss: 13.5164\n",
            "Epoch 33/300\n",
            "7/7 [==============================] - 0s 5ms/step - loss: 16.1481\n",
            "Epoch 34/300\n",
            "7/7 [==============================] - 0s 6ms/step - loss: 16.4542\n",
            "Epoch 35/300\n",
            "7/7 [==============================] - 0s 5ms/step - loss: 26.0772\n"
          ]
        }
      ]
    },
    {
      "cell_type": "code",
      "metadata": {
        "id": "Kad2kh20hapA"
      },
      "source": [],
      "execution_count": null,
      "outputs": []
    },
    {
      "cell_type": "code",
      "metadata": {
        "id": "XvlzRAm7heKc",
        "colab": {
          "base_uri": "https://localhost:8080/",
          "height": 430
        },
        "outputId": "7abd86d6-d0f3-43cc-efa8-07b4f9dbdce8"
      },
      "source": [
        "plt.plot(history.history['loss'])\n",
        "plt.show()"
      ],
      "execution_count": null,
      "outputs": [
        {
          "output_type": "display_data",
          "data": {
            "text/plain": [
              "<Figure size 640x480 with 1 Axes>"
            ],
            "image/png": "[encoded data removed]"
          },
          "metadata": {}
        }
      ]
    },
    {
      "cell_type": "code",
      "metadata": {
        "id": "hA8Y46s6lLSf",
        "colab": {
          "base_uri": "https://localhost:8080/"
        },
        "outputId": "b2d5d98e-9f1d-4601-eaaf-cce57861ee72"
      },
      "source": [
        "df[\"prediction\"] = model.predict(df[\"X\"])"
      ],
      "execution_count": null,
      "outputs": [
        {
          "output_type": "stream",
          "name": "stdout",
          "text": [
            "7/7 [==============================] - 0s 3ms/step\n"
          ]
        }
      ]
    },
    {
      "cell_type": "code",
      "source": [
        "df"
      ],
      "metadata": {
        "colab": {
          "base_uri": "https://localhost:8080/",
          "height": 423
        },
        "id": "lGK_cI1_JgsQ",
        "outputId": "6fb02a21-dca4-4988-a6a4-b91f1d38094b"
      },
      "execution_count": null,
      "outputs": [
        {
          "output_type": "execute_result",
          "data": {
            "text/plain": [
              "         X     y  prediction\n",
              "0    230.1  22.1   15.723089\n",
              "1     44.5  10.4    6.860660\n",
              "2     17.2   9.3    5.314331\n",
              "3    151.5  18.5   11.969927\n",
              "4    180.8  12.9   13.369007\n",
              "..     ...   ...         ...\n",
              "195   38.2   7.6    6.559834\n",
              "196   94.2   9.7    9.233845\n",
              "197  177.0  12.8   13.187559\n",
              "198  283.6  25.5   18.277721\n",
              "199  232.1  13.4   15.818583\n",
              "\n",
              "[200 rows x 3 columns]"
            ],
            "text/html": [
              "\n",
              "  <div id=\"df-ea24e386-5936-474d-a338-22af5c4e0f78\" class=\"colab-df-container\">\n",
              "    <div>\n",
              "<style scoped>\n",
              "    .dataframe tbody tr th:only-of-type {\n",
              "        vertical-align: middle;\n",
              "    }\n",
              "\n",
              "    .dataframe tbody tr th {\n",
              "        vertical-align: top;\n",
              "    }\n",
              "\n",
              "    .dataframe thead th {\n",
              "        text-align: right;\n",
              "    }\n",
              "</style>\n",
              "<table border=\"1\" class=\"dataframe\">\n",
              "  <thead>\n",
              "    <tr style=\"text-align: right;\">\n",
              "      <th></th>\n",
              "      <th>X</th>\n",
              "      <th>y</th>\n",
              "      <th>prediction</th>\n",
              "    </tr>\n",
              "  </thead>\n",
              "  <tbody>\n",
              "    <tr>\n",
              "      <th>0</th>\n",
              "      <td>230.1</td>\n",
              "      <td>22.1</td>\n",
              "      <td>15.723089</td>\n",
              "    </tr>\n",
              "    <tr>\n",
              "      <th>1</th>\n",
              "      <td>44.5</td>\n",
              "      <td>10.4</td>\n",
              "      <td>6.860660</td>\n",
              "    </tr>\n",
              "    <tr>\n",
              "      <th>2</th>\n",
              "      <td>17.2</td>\n",
              "      <td>9.3</td>\n",
              "      <td>5.314331</td>\n",
              "    </tr>\n",
              "    <tr>\n",
              "      <th>3</th>\n",
              "      <td>151.5</td>\n",
              "      <td>18.5</td>\n",
              "      <td>11.969927</td>\n",
              "    </tr>\n",
              "    <tr>\n",
              "      <th>4</th>\n",
              "      <td>180.8</td>\n",
              "      <td>12.9</td>\n",
              "      <td>13.369007</td>\n",
              "    </tr>\n",
              "    <tr>\n",
              "      <th>...</th>\n",
              "      <td>...</td>\n",
              "      <td>...</td>\n",
              "      <td>...</td>\n",
              "    </tr>\n",
              "    <tr>\n",
              "      <th>195</th>\n",
              "      <td>38.2</td>\n",
              "      <td>7.6</td>\n",
              "      <td>6.559834</td>\n",
              "    </tr>\n",
              "    <tr>\n",
              "      <th>196</th>\n",
              "      <td>94.2</td>\n",
              "      <td>9.7</td>\n",
              "      <td>9.233845</td>\n",
              "    </tr>\n",
              "    <tr>\n",
              "      <th>197</th>\n",
              "      <td>177.0</td>\n",
              "      <td>12.8</td>\n",
              "      <td>13.187559</td>\n",
              "    </tr>\n",
              "    <tr>\n",
              "      <th>198</th>\n",
              "      <td>283.6</td>\n",
              "      <td>25.5</td>\n",
              "      <td>18.277721</td>\n",
              "    </tr>\n",
              "    <tr>\n",
              "      <th>199</th>\n",
              "      <td>232.1</td>\n",
              "      <td>13.4</td>\n",
              "      <td>15.818583</td>\n",
              "    </tr>\n",
              "  </tbody>\n",
              "</table>\n",
              "<p>200 rows × 3 columns</p>\n",
              "</div>\n",
              "    <div class=\"colab-df-buttons\">\n",
              "\n",
              "  <div class=\"colab-df-container\">\n",
              "    <button class=\"colab-df-convert\" onclick=\"convertToInteractive('df-ea24e386-5936-474d-a338-22af5c4e0f78')\"\n",
              "            title=\"Convert this dataframe to an interactive table.\"\n",
              "            style=\"display:none;\">\n",
              "\n",
              "  <svg xmlns=\"http://www.w3.org/2000/svg\" height=\"24px\" viewBox=\"0 -960 960 960\">\n",
              "    <path d=\"M120-120v-720h720v720H120Zm60-500h600v-160H180v160Zm220 220h160v-160H400v160Zm0 220h160v-160H400v160ZM180-400h160v-160H180v160Zm440 0h160v-160H620v160ZM180-180h160v-160H180v160Zm440 0h160v-160H620v160Z\"/>\n",
              "  </svg>\n",
              "    </button>\n",
              "\n",
              "  <style>\n",
              "    .colab-df-container {\n",
              "      display:flex;\n",
              "      gap: 12px;\n",
              "    }\n",
              "\n",
              "    .colab-df-convert {\n",
              "      background-color: #E8F0FE;\n",
              "      border: none;\n",
              "      border-radius: 50%;\n",
              "      cursor: pointer;\n",
              "      display: none;\n",
              "      fill: #1967D2;\n",
              "      height: 32px;\n",
              "      padding: 0 0 0 0;\n",
              "      width: 32px;\n",
              "    }\n",
              "\n",
              "    .colab-df-convert:hover {\n",
              "      background-color: #E2EBFA;\n",
              "      box-shadow: 0px 1px 2px rgba(60, 64, 67, 0.3), 0px 1px 3px 1px rgba(60, 64, 67, 0.15);\n",
              "      fill: #174EA6;\n",
              "    }\n",
              "\n",
              "    .colab-df-buttons div {\n",
              "      margin-bottom: 4px;\n",
              "    }\n",
              "\n",
              "    [theme=dark] .colab-df-convert {\n",
              "      background-color: #3B4455;\n",
              "      fill: #D2E3FC;\n",
              "    }\n",
              "\n",
              "    [theme=dark] .colab-df-convert:hover {\n",
              "      background-color: #434B5C;\n",
              "      box-shadow: 0px 1px 3px 1px rgba(0, 0, 0, 0.15);\n",
              "      filter: drop-shadow(0px 1px 2px rgba(0, 0, 0, 0.3));\n",
              "      fill: #FFFFFF;\n",
              "    }\n",
              "  </style>\n",
              "\n",
              "    <script>\n",
              "      const buttonEl =\n",
              "        document.querySelector('#df-ea24e386-5936-474d-a338-22af5c4e0f78 button.colab-df-convert');\n",
              "      buttonEl.style.display =\n",
              "        google.colab.kernel.accessAllowed ? 'block' : 'none';\n",
              "\n",
              "      async function convertToInteractive(key) {\n",
              "        const element = document.querySelector('#df-ea24e386-5936-474d-a338-22af5c4e0f78');\n",
              "        const dataTable =\n",
              "          await google.colab.kernel.invokeFunction('convertToInteractive',\n",
              "                                                    [key], {});\n",
              "        if (!dataTable) return;\n",
              "\n",
              "        const docLinkHtml = 'Like what you see? Visit the ' +\n",
              "          '<a target=\"_blank\" href=https://colab.research.google.com/notebooks/data_table.ipynb>data table notebook</a>'\n",
              "          + ' to learn more about interactive tables.';\n",
              "        element.innerHTML = '';\n",
              "        dataTable['output_type'] = 'display_data';\n",
              "        await google.colab.output.renderOutput(dataTable, element);\n",
              "        const docLink = document.createElement('div');\n",
              "        docLink.innerHTML = docLinkHtml;\n",
              "        element.appendChild(docLink);\n",
              "      }\n",
              "    </script>\n",
              "  </div>\n",
              "\n",
              "\n",
              "<div id=\"df-84a8ea5d-7246-4a80-8795-7d6e23e27303\">\n",
              "  <button class=\"colab-df-quickchart\" onclick=\"quickchart('df-84a8ea5d-7246-4a80-8795-7d6e23e27303')\"\n",
              "            title=\"Suggest charts.\"\n",
              "            style=\"display:none;\">\n",
              "\n",
              "<svg xmlns=\"http://www.w3.org/2000/svg\" height=\"24px\"viewBox=\"0 0 24 24\"\n",
              "     width=\"24px\">\n",
              "    <g>\n",
              "        <path d=\"M19 3H5c-1.1 0-2 .9-2 2v14c0 1.1.9 2 2 2h14c1.1 0 2-.9 2-2V5c0-1.1-.9-2-2-2zM9 17H7v-7h2v7zm4 0h-2V7h2v10zm4 0h-2v-4h2v4z\"/>\n",
              "    </g>\n",
              "</svg>\n",
              "  </button>\n",
              "\n",
              "<style>\n",
              "  .colab-df-quickchart {\n",
              "      --bg-color: #E8F0FE;\n",
              "      --fill-color: #1967D2;\n",
              "      --hover-bg-color: #E2EBFA;\n",
              "      --hover-fill-color: #174EA6;\n",
              "      --disabled-fill-color: #AAA;\n",
              "      --disabled-bg-color: #DDD;\n",
              "  }\n",
              "\n",
              "  [theme=dark] .colab-df-quickchart {\n",
              "      --bg-color: #3B4455;\n",
              "      --fill-color: #D2E3FC;\n",
              "      --hover-bg-color: #434B5C;\n",
              "      --hover-fill-color: #FFFFFF;\n",
              "      --disabled-bg-color: #3B4455;\n",
              "      --disabled-fill-color: #666;\n",
              "  }\n",
              "\n",
              "  .colab-df-quickchart {\n",
              "    background-color: var(--bg-color);\n",
              "    border: none;\n",
              "    border-radius: 50%;\n",
              "    cursor: pointer;\n",
              "    display: none;\n",
              "    fill: var(--fill-color);\n",
              "    height: 32px;\n",
              "    padding: 0;\n",
              "    width: 32px;\n",
              "  }\n",
              "\n",
              "  .colab-df-quickchart:hover {\n",
              "    background-color: var(--hover-bg-color);\n",
              "    box-shadow: 0 1px 2px rgba(60, 64, 67, 0.3), 0 1px 3px 1px rgba(60, 64, 67, 0.15);\n",
              "    fill: var(--button-hover-fill-color);\n",
              "  }\n",
              "\n",
              "  .colab-df-quickchart-complete:disabled,\n",
              "  .colab-df-quickchart-complete:disabled:hover {\n",
              "    background-color: var(--disabled-bg-color);\n",
              "    fill: var(--disabled-fill-color);\n",
              "    box-shadow: none;\n",
              "  }\n",
              "\n",
              "  .colab-df-spinner {\n",
              "    border: 2px solid var(--fill-color);\n",
              "    border-color: transparent;\n",
              "    border-bottom-color: var(--fill-color);\n",
              "    animation:\n",
              "      spin 1s steps(1) infinite;\n",
              "  }\n",
              "\n",
              "  @keyframes spin {\n",
              "    0% {\n",
              "      border-color: transparent;\n",
              "      border-bottom-color: var(--fill-color);\n",
              "      border-left-color: var(--fill-color);\n",
              "    }\n",
              "    20% {\n",
              "      border-color: transparent;\n",
              "      border-left-color: var(--fill-color);\n",
              "      border-top-color: var(--fill-color);\n",
              "    }\n",
              "    30% {\n",
              "      border-color: transparent;\n",
              "      border-left-color: var(--fill-color);\n",
              "      border-top-color: var(--fill-color);\n",
              "      border-right-color: var(--fill-color);\n",
              "    }\n",
              "    40% {\n",
              "      border-color: transparent;\n",
              "      border-right-color: var(--fill-color);\n",
              "      border-top-color: var(--fill-color);\n",
              "    }\n",
              "    60% {\n",
              "      border-color: transparent;\n",
              "      border-right-color: var(--fill-color);\n",
              "    }\n",
              "    80% {\n",
              "      border-color: transparent;\n",
              "      border-right-color: var(--fill-color);\n",
              "      border-bottom-color: var(--fill-color);\n",
              "    }\n",
              "    90% {\n",
              "      border-color: transparent;\n",
              "      border-bottom-color: var(--fill-color);\n",
              "    }\n",
              "  }\n",
              "</style>\n",
              "\n",
              "  <script>\n",
              "    async function quickchart(key) {\n",
              "      const quickchartButtonEl =\n",
              "        document.querySelector('#' + key + ' button');\n",
              "      quickchartButtonEl.disabled = true;  // To prevent multiple clicks.\n",
              "      quickchartButtonEl.classList.add('colab-df-spinner');\n",
              "      try {\n",
              "        const charts = await google.colab.kernel.invokeFunction(\n",
              "            'suggestCharts', [key], {});\n",
              "      } catch (error) {\n",
              "        console.error('Error during call to suggestCharts:', error);\n",
              "      }\n",
              "      quickchartButtonEl.classList.remove('colab-df-spinner');\n",
              "      quickchartButtonEl.classList.add('colab-df-quickchart-complete');\n",
              "    }\n",
              "    (() => {\n",
              "      let quickchartButtonEl =\n",
              "        document.querySelector('#df-84a8ea5d-7246-4a80-8795-7d6e23e27303 button');\n",
              "      quickchartButtonEl.style.display =\n",
              "        google.colab.kernel.accessAllowed ? 'block' : 'none';\n",
              "    })();\n",
              "  </script>\n",
              "</div>\n",
              "    </div>\n",
              "  </div>\n"
            ]
          },
          "metadata": {},
          "execution_count": 23
        }
      ]
    },
    {
      "cell_type": "code",
      "metadata": {
        "id": "C6nXUw7mnO6E",
        "colab": {
          "base_uri": "https://localhost:8080/",
          "height": 430
        },
        "outputId": "33fdeceb-d2e5-4ef2-97a4-bd4bb81ff544"
      },
      "source": [
        "plt.scatter(df[\"X\"], df[\"y\"])\n",
        "plt.scatter(df[\"X\"], df[\"prediction\"], color='r')\n",
        "plt.show()"
      ],
      "execution_count": null,
      "outputs": [
        {
          "output_type": "display_data",
          "data": {
            "text/plain": [
              "<Figure size 640x480 with 1 Axes>"
            ],
            "image/png": "[encoded data removed]"
          },
          "metadata": {}
        }
      ]
    },
    {
      "cell_type": "code",
      "source": [],
      "metadata": {
        "id": "psYbGGcymiOg"
      },
      "execution_count": null,
      "outputs": []
    }
  ]
}