{
  "nbformat": 4,
  "nbformat_minor": 0,
  "metadata": {
    "colab": {
      "provenance": []
    },
    "kernelspec": {
      "name": "python3",
      "display_name": "Python 3"
    },
    "language_info": {
      "name": "python"
    }
  },
  "cells": [
    {
      "cell_type": "markdown",
      "source": [
        "#Multiple Linear Regression\n",
        "`Dr. Tehreem Qasim`\n",
        "\n",
        "`14-03-2024`"
      ],
      "metadata": {
        "id": "y3wpEZNctP6a"
      }
    },
    {
      "cell_type": "code",
      "execution_count": 2,
      "metadata": {
        "colab": {
          "base_uri": "https://localhost:8080/"
        },
        "id": "7iEbD43BXvgx",
        "outputId": "dec3848d-c8a2-457c-db1c-21611aa730b9"
      },
      "outputs": [
        {
          "output_type": "execute_result",
          "data": {
            "text/plain": [
              "array([[0.5488135 , 0.71518937, 0.60276338],\n",
              "       [0.54488318, 0.4236548 , 0.64589411],\n",
              "       [0.43758721, 0.891773  , 0.96366276],\n",
              "       [0.38344152, 0.79172504, 0.52889492],\n",
              "       [0.56804456, 0.92559664, 0.07103606],\n",
              "       [0.0871293 , 0.0202184 , 0.83261985],\n",
              "       [0.77815675, 0.87001215, 0.97861834],\n",
              "       [0.79915856, 0.46147936, 0.78052918],\n",
              "       [0.11827443, 0.63992102, 0.14335329],\n",
              "       [0.94466892, 0.52184832, 0.41466194],\n",
              "       [0.26455561, 0.77423369, 0.45615033],\n",
              "       [0.56843395, 0.0187898 , 0.6176355 ],\n",
              "       [0.61209572, 0.616934  , 0.94374808],\n",
              "       [0.6818203 , 0.3595079 , 0.43703195],\n",
              "       [0.6976312 , 0.06022547, 0.66676672],\n",
              "       [0.67063787, 0.21038256, 0.1289263 ],\n",
              "       [0.31542835, 0.36371077, 0.57019677],\n",
              "       [0.43860151, 0.98837384, 0.10204481],\n",
              "       [0.20887676, 0.16130952, 0.65310833],\n",
              "       [0.2532916 , 0.46631077, 0.24442559],\n",
              "       [0.15896958, 0.11037514, 0.65632959],\n",
              "       [0.13818295, 0.19658236, 0.36872517],\n",
              "       [0.82099323, 0.09710128, 0.83794491],\n",
              "       [0.09609841, 0.97645947, 0.4686512 ],\n",
              "       [0.97676109, 0.60484552, 0.73926358],\n",
              "       [0.03918779, 0.28280696, 0.12019656],\n",
              "       [0.2961402 , 0.11872772, 0.31798318],\n",
              "       [0.41426299, 0.0641475 , 0.69247212],\n",
              "       [0.56660145, 0.26538949, 0.52324805],\n",
              "       [0.09394051, 0.5759465 , 0.9292962 ],\n",
              "       [0.31856895, 0.66741038, 0.13179786],\n",
              "       [0.7163272 , 0.28940609, 0.18319136],\n",
              "       [0.58651293, 0.02010755, 0.82894003],\n",
              "       [0.00469548, 0.67781654, 0.27000797],\n",
              "       [0.73519402, 0.96218855, 0.24875314],\n",
              "       [0.57615733, 0.59204193, 0.57225191],\n",
              "       [0.22308163, 0.95274901, 0.44712538],\n",
              "       [0.84640867, 0.69947928, 0.29743695],\n",
              "       [0.81379782, 0.39650574, 0.8811032 ],\n",
              "       [0.58127287, 0.88173536, 0.69253159],\n",
              "       [0.72525428, 0.50132438, 0.95608363],\n",
              "       [0.6439902 , 0.42385505, 0.60639321],\n",
              "       [0.0191932 , 0.30157482, 0.66017354],\n",
              "       [0.29007761, 0.61801543, 0.4287687 ],\n",
              "       [0.13547406, 0.29828233, 0.56996491],\n",
              "       [0.59087276, 0.57432525, 0.65320082],\n",
              "       [0.65210327, 0.43141844, 0.8965466 ],\n",
              "       [0.36756187, 0.43586493, 0.89192336],\n",
              "       [0.80619399, 0.70388858, 0.10022689],\n",
              "       [0.91948261, 0.7142413 , 0.99884701],\n",
              "       [0.1494483 , 0.86812606, 0.16249293],\n",
              "       [0.61555956, 0.12381998, 0.84800823],\n",
              "       [0.80731896, 0.56910074, 0.4071833 ],\n",
              "       [0.069167  , 0.69742877, 0.45354268],\n",
              "       [0.7220556 , 0.86638233, 0.97552151],\n",
              "       [0.85580334, 0.01171408, 0.35997806],\n",
              "       [0.72999056, 0.17162968, 0.52103661],\n",
              "       [0.05433799, 0.19999652, 0.01852179],\n",
              "       [0.7936977 , 0.22392469, 0.34535168],\n",
              "       [0.92808129, 0.7044144 , 0.03183893],\n",
              "       [0.16469416, 0.6214784 , 0.57722859],\n",
              "       [0.23789282, 0.934214  , 0.61396596],\n",
              "       [0.5356328 , 0.58990998, 0.73012203],\n",
              "       [0.311945  , 0.39822106, 0.20984375],\n",
              "       [0.18619301, 0.94437239, 0.7395508 ],\n",
              "       [0.49045881, 0.22741463, 0.25435648],\n",
              "       [0.05802916, 0.43441663, 0.31179588],\n",
              "       [0.69634349, 0.37775184, 0.17960368],\n",
              "       [0.02467873, 0.06724963, 0.67939277],\n",
              "       [0.45369684, 0.53657921, 0.89667129],\n",
              "       [0.99033895, 0.21689698, 0.6630782 ],\n",
              "       [0.26332238, 0.020651  , 0.75837865],\n",
              "       [0.32001715, 0.38346389, 0.58831711],\n",
              "       [0.83104846, 0.62898184, 0.87265066],\n",
              "       [0.27354203, 0.79804683, 0.18563594],\n",
              "       [0.95279166, 0.68748828, 0.21550768],\n",
              "       [0.94737059, 0.73085581, 0.25394164],\n",
              "       [0.21331198, 0.51820071, 0.02566272],\n",
              "       [0.20747008, 0.42468547, 0.37416998],\n",
              "       [0.46357542, 0.27762871, 0.58678435],\n",
              "       [0.86385561, 0.11753186, 0.51737911],\n",
              "       [0.13206811, 0.71685968, 0.3960597 ],\n",
              "       [0.56542131, 0.18327984, 0.14484776],\n",
              "       [0.48805628, 0.35561274, 0.94043195],\n",
              "       [0.76532525, 0.74866362, 0.90371974],\n",
              "       [0.08342244, 0.55219247, 0.58447607],\n",
              "       [0.96193638, 0.29214753, 0.24082878],\n",
              "       [0.10029394, 0.01642963, 0.92952932],\n",
              "       [0.66991655, 0.78515291, 0.28173011],\n",
              "       [0.58641017, 0.06395527, 0.4856276 ],\n",
              "       [0.97749514, 0.87650525, 0.33815895],\n",
              "       [0.96157015, 0.23170163, 0.94931882],\n",
              "       [0.9413777 , 0.79920259, 0.63044794],\n",
              "       [0.87428797, 0.29302028, 0.84894356],\n",
              "       [0.61787669, 0.01323686, 0.34723352],\n",
              "       [0.14814086, 0.98182939, 0.47837031],\n",
              "       [0.49739137, 0.63947252, 0.36858461],\n",
              "       [0.13690027, 0.82211773, 0.18984791],\n",
              "       [0.51131898, 0.22431703, 0.09784448],\n",
              "       [0.86219152, 0.97291949, 0.96083466]])"
            ]
          },
          "metadata": {},
          "execution_count": 2
        }
      ],
      "source": [
        "import numpy as np\n",
        "from sklearn.model_selection import train_test_split\n",
        "from sklearn.linear_model import LinearRegression\n",
        "from sklearn.metrics import mean_squared_error\n",
        "\n",
        "# Creating a dataset\n",
        "np.random.seed(0)\n",
        "# Let's create a dataset with 100 samples and 3 features\n",
        "num_samples = 100\n",
        "num_features = 3\n",
        "X = np.random.rand(num_samples, num_features)  # Features\n",
        "X\n"
      ]
    },
    {
      "cell_type": "code",
      "source": [
        "\n",
        "# This is just part of data set creation\n",
        "# In the above cell we created features X and now we are creating the target variable y\n",
        "# Do not bother if it is confusing you...for the time being just bear in mind that you have\n",
        "# got a dataset. It could have just come from anywhere\n",
        "# Let's create some coefficients for each feature\n",
        "coefficients = np.array([3, 2, 1])\n",
        "# Create the target variable (y) based on the coefficients and features with some noise\n",
        "noise = 0.1 * np.random.randn(num_samples)\n",
        "y = np.dot(X, coefficients) + noise\n",
        "np.array([y]).transpose()"
      ],
      "metadata": {
        "colab": {
          "base_uri": "https://localhost:8080/"
        },
        "id": "poDWNGp2t4ZL",
        "outputId": "e96dd1a8-8ade-43e3-bb49-e86e60ac79c6"
      },
      "execution_count": 7,
      "outputs": [
        {
          "output_type": "execute_result",
          "data": {
            "text/plain": [
              "array([[3.77325687],\n",
              "       [3.26908603],\n",
              "       [3.82301171],\n",
              "       [3.34907478],\n",
              "       [3.40240261],\n",
              "       [1.17459445],\n",
              "       [5.17559995],\n",
              "       [4.1074492 ],\n",
              "       [1.65004969],\n",
              "       [4.23382221],\n",
              "       [2.77212   ],\n",
              "       [2.34229247],\n",
              "       [3.99361356],\n",
              "       [3.19052037],\n",
              "       [2.90145925],\n",
              "       [2.44074766],\n",
              "       [2.21970138],\n",
              "       [3.54642314],\n",
              "       [1.56389309],\n",
              "       [1.89253834],\n",
              "       [1.46180835],\n",
              "       [0.92052028],\n",
              "       [3.61326501],\n",
              "       [2.64667498],\n",
              "       [4.89563074],\n",
              "       [0.813006  ],\n",
              "       [1.53810602],\n",
              "       [2.03679662],\n",
              "       [2.68602882],\n",
              "       [2.4927953 ],\n",
              "       [2.1859081 ],\n",
              "       [2.91301858],\n",
              "       [2.49390138],\n",
              "       [1.56357014],\n",
              "       [4.57983797],\n",
              "       [3.48034823],\n",
              "       [3.04137527],\n",
              "       [4.05746523],\n",
              "       [4.04260367],\n",
              "       [4.21947667],\n",
              "       [4.16997101],\n",
              "       [3.44776256],\n",
              "       [1.32176556],\n",
              "       [2.5877328 ],\n",
              "       [1.61832995],\n",
              "       [3.39149556],\n",
              "       [3.71939385],\n",
              "       [2.94312906],\n",
              "       [3.985574  ],\n",
              "       [5.14939157],\n",
              "       [2.26652731],\n",
              "       [2.8304957 ],\n",
              "       [3.95423625],\n",
              "       [2.1692092 ],\n",
              "       [4.67927255],\n",
              "       [2.88482709],\n",
              "       [2.9402874 ],\n",
              "       [0.66002456],\n",
              "       [3.1188632 ],\n",
              "       [4.17784785],\n",
              "       [2.2925729 ],\n",
              "       [3.24061174],\n",
              "       [3.47760149],\n",
              "       [1.63750655],\n",
              "       [3.24120578],\n",
              "       [2.22446646],\n",
              "       [1.33276251],\n",
              "       [2.91573416],\n",
              "       [0.92310623],\n",
              "       [3.3688438 ],\n",
              "       [4.02088573],\n",
              "       [1.56797464],\n",
              "       [2.2222807 ],\n",
              "       [4.6059008 ],\n",
              "       [2.44731278],\n",
              "       [4.49059108],\n",
              "       [4.46332818],\n",
              "       [1.72581039],\n",
              "       [1.70535485],\n",
              "       [2.47376227],\n",
              "       [3.3329607 ],\n",
              "       [2.0599134 ],\n",
              "       [2.21918615],\n",
              "       [3.07791151],\n",
              "       [4.52278712],\n",
              "       [1.80880404],\n",
              "       [3.77144498],\n",
              "       [1.352826  ],\n",
              "       [3.84859471],\n",
              "       [2.41324481],\n",
              "       [5.04603922],\n",
              "       [4.33039484],\n",
              "       [5.18158463],\n",
              "       [3.90714818],\n",
              "       [2.29498338],\n",
              "       [2.84825077],\n",
              "       [3.11727784],\n",
              "       [2.21455922],\n",
              "       [2.04292078],\n",
              "       [5.37062857]])"
            ]
          },
          "metadata": {},
          "execution_count": 7
        }
      ]
    },
    {
      "cell_type": "code",
      "source": [
        "#In this cell\n",
        "# Splitting the dataset into training and testing sets\n",
        "X_train, X_test, y_train, y_test = train_test_split(X, y, test_size=0.2, random_state=42)\n",
        "\n",
        "# Create a linear regression model\n",
        "model = LinearRegression()\n",
        "\n",
        "# Train the model\n",
        "model.fit(X_train, y_train)\n",
        "\n",
        "# Make predictions on the testing set\n",
        "y_pred = model.predict(X_test)\n",
        "\n",
        "# Print the coefficients\n",
        "print(\"Intercept:\", model.intercept_)\n",
        "print(\"Coefficients:\", model.coef_)\n",
        "\n",
        "# Calculate the mean squared error\n",
        "mse = mean_squared_error(y_test, y_pred)\n",
        "print(\"Mean Squared Error:\", mse)\n"
      ],
      "metadata": {
        "colab": {
          "base_uri": "https://localhost:8080/"
        },
        "id": "-3_w6FegtjDh",
        "outputId": "501a2c2d-6457-4ca7-f282-db9a7bbba632"
      },
      "execution_count": 8,
      "outputs": [
        {
          "output_type": "stream",
          "name": "stdout",
          "text": [
            "Intercept: -0.02688310444569808\n",
            "Coefficients: [3.00143856 1.99698703 1.00944461]\n",
            "Mean Squared Error: 0.008999040444750176\n"
          ]
        }
      ]
    },
    {
      "cell_type": "code",
      "source": [],
      "metadata": {
        "id": "FEmzUqYRYMIA"
      },
      "execution_count": null,
      "outputs": []
    },
    {
      "cell_type": "markdown",
      "source": [
        "#Polynomial Regression"
      ],
      "metadata": {
        "id": "uLnURoXJZu-a"
      }
    },
    {
      "cell_type": "markdown",
      "source": [],
      "metadata": {
        "id": "k-PrDyaQX0zc"
      }
    },
    {
      "cell_type": "code",
      "source": [
        "import numpy as np\n",
        "from sklearn.model_selection import train_test_split\n",
        "from sklearn.linear_model import LinearRegression\n",
        "from sklearn.preprocessing import PolynomialFeatures\n",
        "from sklearn.metrics import mean_squared_error\n",
        "\n",
        "# Create a dataset\n",
        "np.random.seed(0)\n",
        "# Let's create a dataset with 100 samples and 1 feature\n",
        "num_samples = 100\n",
        "X = np.random.rand(num_samples, 1) * 10  # Features\n",
        "# Let's create some coefficients for a quadratic equation\n",
        "coefficients = np.array([2, -3, 1])\n",
        "# Create the target variable (y) based on the coefficients and features with some noise\n",
        "noise = 2 * np.random.randn(num_samples, 1)\n",
        "\n",
        "y = coefficients[0] + coefficients[1] * X + coefficients[2] * X**2 + noise\n"
      ],
      "metadata": {
        "id": "EgUzKbpTvQtK"
      },
      "execution_count": 9,
      "outputs": []
    },
    {
      "cell_type": "code",
      "source": [
        "from matplotlib import pyplot as plt\n",
        "plt.scatter(X,y)"
      ],
      "metadata": {
        "colab": {
          "base_uri": "https://localhost:8080/",
          "height": 448
        },
        "id": "YrwsUTuzvbjp",
        "outputId": "9fdf1289-de7d-42a0-d5c3-2103e928ca92"
      },
      "execution_count": 10,
      "outputs": [
        {
          "output_type": "execute_result",
          "data": {
            "text/plain": [
              "<matplotlib.collections.PathCollection at 0x7aa999d25990>"
            ]
          },
          "metadata": {},
          "execution_count": 10
        },
        {
          "output_type": "display_data",
          "data": {
            "text/plain": [
              "<Figure size 640x480 with 1 Axes>"
            ],
            "image/png": "[encoded data removed]"
          },
          "metadata": {}
        }
      ]
    },
    {
      "cell_type": "code",
      "source": [
        "\n",
        "# Splitting the dataset into training and testing sets\n",
        "X_train, X_test, y_train, y_test = train_test_split(X, y, test_size=0.2, random_state=42)\n",
        "\n",
        "# Transform features to include polynomial terms up to degree 2\n",
        "poly_features = PolynomialFeatures(degree=2)\n",
        "X_train_poly = poly_features.fit_transform(X_train)\n",
        "X_test_poly = poly_features.transform(X_test)\n",
        "X_train_poly"
      ],
      "metadata": {
        "colab": {
          "base_uri": "https://localhost:8080/"
        },
        "id": "jkQtSG42wEma",
        "outputId": "efb5d5f5-c6aa-4aa8-9fd7-d2a3aacb6d08"
      },
      "execution_count": 13,
      "outputs": [
        {
          "output_type": "execute_result",
          "data": {
            "text/plain": [
              "array([[1.00000000e+00, 1.61309518e+00, 2.60207606e+00],\n",
              "       [1.00000000e+00, 5.75946496e+00, 3.31714366e+01],\n",
              "       [1.00000000e+00, 1.43353287e+00, 2.05501650e+00],\n",
              "       [1.00000000e+00, 6.97631196e+00, 4.86689286e+01],\n",
              "       [1.00000000e+00, 9.60984079e-01, 9.23490400e-01],\n",
              "       [1.00000000e+00, 8.71292997e-01, 7.59151487e-01],\n",
              "       [1.00000000e+00, 3.59507901e+00, 1.29245931e+01],\n",
              "       [1.00000000e+00, 5.86512935e+00, 3.43997423e+01],\n",
              "       [1.00000000e+00, 3.83441519e+00, 1.47027398e+01],\n",
              "       [1.00000000e+00, 9.76761088e+00, 9.54062223e+01],\n",
              "       [1.00000000e+00, 5.28894920e+00, 2.79729836e+01],\n",
              "       [1.00000000e+00, 1.28926298e+00, 1.66219902e+00],\n",
              "       [1.00000000e+00, 2.65389491e+00, 7.04315819e+00],\n",
              "       [1.00000000e+00, 5.21848322e+00, 2.72325671e+01],\n",
              "       [1.00000000e+00, 7.16327204e+00, 5.13124663e+01],\n",
              "       [1.00000000e+00, 6.45894113e+00, 4.17179205e+01],\n",
              "       [1.00000000e+00, 8.20993230e+00, 6.74029883e+01],\n",
              "       [1.00000000e+00, 3.68725171e+00, 1.35958251e+01],\n",
              "       [1.00000000e+00, 6.17635497e+00, 3.81473607e+01],\n",
              "       [1.00000000e+00, 2.02183974e-01, 4.08783595e-02],\n",
              "       [1.00000000e+00, 3.63710771e+00, 1.32285525e+01],\n",
              "       [1.00000000e+00, 1.87898004e-01, 3.53056600e-02],\n",
              "       [1.00000000e+00, 8.91773001e+00, 7.95259085e+01],\n",
              "       [1.00000000e+00, 1.83191362e+00, 3.35590751e+00],\n",
              "       [1.00000000e+00, 9.44668917e+00, 8.92399363e+01],\n",
              "       [1.00000000e+00, 8.70012148e+00, 7.56921138e+01],\n",
              "       [1.00000000e+00, 4.14262995e+00, 1.71613829e+01],\n",
              "       [1.00000000e+00, 6.39921021e+00, 4.09498914e+01],\n",
              "       [1.00000000e+00, 6.56329589e+00, 4.30768530e+01],\n",
              "       [1.00000000e+00, 9.25596638e+00, 8.56729137e+01],\n",
              "       [1.00000000e+00, 1.18274426e+00, 1.39888398e+00],\n",
              "       [1.00000000e+00, 5.44883183e+00, 2.96897683e+01],\n",
              "       [1.00000000e+00, 8.32619846e+00, 6.93255807e+01],\n",
              "       [1.00000000e+00, 9.43748079e+00, 8.90660436e+01],\n",
              "       [1.00000000e+00, 9.63662761e+00, 9.28645916e+01],\n",
              "       [1.00000000e+00, 2.96140198e+00, 8.76990166e+00],\n",
              "       [1.00000000e+00, 4.37587211e+00, 1.91482567e+01],\n",
              "       [1.00000000e+00, 1.96582362e+00, 3.86446249e+00],\n",
              "       [1.00000000e+00, 6.12095723e+00, 3.74661174e+01],\n",
              "       [1.00000000e+00, 9.29296198e+00, 8.63591423e+01],\n",
              "       [1.00000000e+00, 6.53108325e+00, 4.26550485e+01],\n",
              "       [1.00000000e+00, 4.69547619e-02, 2.20474967e-03],\n",
              "       [1.00000000e+00, 2.08876756e+00, 4.36294992e+00],\n",
              "       [1.00000000e+00, 6.02254716e-01, 3.62710743e-01],\n",
              "       [1.00000000e+00, 5.70196770e+00, 3.25124357e+01],\n",
              "       [1.00000000e+00, 9.71012758e-01, 9.42865776e-01],\n",
              "       [1.00000000e+00, 2.10382561e+00, 4.42608220e+00],\n",
              "       [1.00000000e+00, 8.37944907e+00, 7.02151668e+01],\n",
              "       [1.00000000e+00, 1.10375141e+00, 1.21826718e+00],\n",
              "       [1.00000000e+00, 2.01075462e-01, 4.04313414e-02],\n",
              "       [1.00000000e+00, 1.18727719e+00, 1.40962712e+00],\n",
              "       [1.00000000e+00, 4.37031954e+00, 1.90996929e+01],\n",
              "       [1.00000000e+00, 4.66310773e+00, 2.17445737e+01],\n",
              "       [1.00000000e+00, 3.15428351e+00, 9.94950446e+00],\n",
              "       [1.00000000e+00, 8.28940029e+00, 6.87141572e+01],\n",
              "       [1.00000000e+00, 2.53291603e+00, 6.41566359e+00],\n",
              "       [1.00000000e+00, 3.91877923e-01, 1.53568306e-01],\n",
              "       [1.00000000e+00, 4.56150332e+00, 2.08073126e+01],\n",
              "       [1.00000000e+00, 2.89406093e+00, 8.37558866e+00],\n",
              "       [1.00000000e+00, 2.44425592e+00, 5.97438700e+00],\n",
              "       [1.00000000e+00, 1.38182951e+00, 1.90945280e+00],\n",
              "       [1.00000000e+00, 5.66601454e+00, 3.21037208e+01],\n",
              "       [1.00000000e+00, 6.16933997e+00, 3.80607556e+01],\n",
              "       [1.00000000e+00, 4.14661940e+00, 1.71944524e+01],\n",
              "       [1.00000000e+00, 7.15189366e+00, 5.11495830e+01],\n",
              "       [1.00000000e+00, 9.88373838e+00, 9.76882844e+01],\n",
              "       [1.00000000e+00, 7.99158564e+00, 6.38654411e+01],\n",
              "       [1.00000000e+00, 6.02763376e+00, 3.63323688e+01],\n",
              "       [1.00000000e+00, 7.80529176e+00, 6.09225795e+01],\n",
              "       [1.00000000e+00, 9.39405108e-01, 8.82481956e-01],\n",
              "       [1.00000000e+00, 6.67410380e+00, 4.45436615e+01],\n",
              "       [1.00000000e+00, 7.39263579e+00, 5.46510640e+01],\n",
              "       [1.00000000e+00, 5.23248053e+00, 2.73788525e+01],\n",
              "       [1.00000000e+00, 6.41474963e-01, 4.11490129e-01],\n",
              "       [1.00000000e+00, 9.78618342e+00, 9.57693860e+01],\n",
              "       [1.00000000e+00, 1.58969584e+00, 2.52713285e+00],\n",
              "       [1.00000000e+00, 4.68651202e+00, 2.19633949e+01],\n",
              "       [1.00000000e+00, 7.10360582e-01, 5.04612156e-01],\n",
              "       [1.00000000e+00, 1.31797862e+00, 1.73706765e+00],\n",
              "       [1.00000000e+00, 4.38601513e+00, 1.92371288e+01]])"
            ]
          },
          "metadata": {},
          "execution_count": 13
        }
      ]
    },
    {
      "cell_type": "code",
      "source": [
        "\n",
        "# Create a linear regression model\n",
        "model = LinearRegression()\n",
        "\n",
        "# Train the model\n",
        "model.fit(X_train_poly, y_train)\n",
        "\n",
        "# Make predictions on the testing set\n",
        "Y_pred = model.predict(X_test_poly)\n",
        "\n",
        "# Print the coefficients\n",
        "print(\"Intercept:\", model.intercept_)\n",
        "print(\"Coefficients:\", model.coef_)\n",
        "\n",
        "# Calculate the mean squared error\n",
        "mse = mean_squared_error(y_test, y_pred)\n",
        "print(\"Mean Squared Error:\", mse)\n"
      ],
      "metadata": {
        "id": "JqsHyLS4ZyAM",
        "outputId": "9d69a85b-8424-4599-c05c-ac9f86cfb837",
        "colab": {
          "base_uri": "https://localhost:8080/"
        }
      },
      "execution_count": 14,
      "outputs": [
        {
          "output_type": "stream",
          "name": "stdout",
          "text": [
            "Intercept: [1.87639324]\n",
            "Coefficients: [[ 0.         -2.64065133  0.96231677]]\n",
            "Mean Squared Error: 585.1595745149109\n"
          ]
        }
      ]
    },
    {
      "cell_type": "code",
      "source": [
        "#Now lets visualize the fitted degree 2 polynomial curve on the data\n",
        "plt.scatter(X,y)\n",
        "\n",
        "plt.scatter(X, model.predict(poly_features.fit_transform(X)),s=10,label = 'Degree 2 polynomial fitted on data')\n",
        "\n",
        "# Now lets also fit a degree one plynomial i.e., straight line on this data\n",
        "# We would see that a straight line is not a good representative of this data and would also\n",
        "# lead to a higher error\n",
        "\n",
        "model1 = LinearRegression()\n",
        "\n",
        "# Train the model\n",
        "model1.fit(X_train, y_train)\n",
        "plt.scatter(X, model1.predict(X),s=10,label = 'Degree 1 polynomial fitted on data')\n",
        "\n",
        "plt.legend()\n",
        "\n"
      ],
      "metadata": {
        "id": "FkB_b_cNZyUI",
        "colab": {
          "base_uri": "https://localhost:8080/",
          "height": 448
        },
        "outputId": "9e890ad5-bb82-4b4f-e0dd-9a0e8dfd6b46"
      },
      "execution_count": 24,
      "outputs": [
        {
          "output_type": "execute_result",
          "data": {
            "text/plain": [
              "<matplotlib.legend.Legend at 0x7aa9952b29e0>"
            ]
          },
          "metadata": {},
          "execution_count": 24
        },
        {
          "output_type": "display_data",
          "data": {
            "text/plain": [
              "<Figure size 640x480 with 1 Axes>"
            ],
            "image/png": "[encoded data removed]"
          },
          "metadata": {}
        }
      ]
    },
    {
      "cell_type": "code",
      "source": [
        "#Now lets also see the error of the Degree 1 polynomail\n",
        "mean_squared_error(y_test, model1.predict(y_test))\n",
        "# We see that the error here is much larger than that of the degree 2 polynomial curve"
      ],
      "metadata": {
        "colab": {
          "base_uri": "https://localhost:8080/"
        },
        "id": "iE5osyStxBrj",
        "outputId": "d55917ce-fa34-4a08-f245-75eb7226ef9c"
      },
      "execution_count": 26,
      "outputs": [
        {
          "output_type": "execute_result",
          "data": {
            "text/plain": [
              "19733.75400335196"
            ]
          },
          "metadata": {},
          "execution_count": 26
        }
      ]
    },
    {
      "cell_type": "code",
      "source": [
        "# For practice, try to fit and visualize degree 3 and degree 4 polynomails on this data as well and observe the error"
      ],
      "metadata": {
        "id": "tCoAfszXx_iS"
      },
      "execution_count": 27,
      "outputs": []
    },
    {
      "cell_type": "code",
      "source": [],
      "metadata": {
        "id": "GzQYgH4DaMCf"
      },
      "execution_count": null,
      "outputs": []
    }
  ]
}